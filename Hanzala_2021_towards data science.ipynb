{
 "cells": [
  {
   "cell_type": "code",
   "execution_count": 13,
   "metadata": {},
   "outputs": [],
   "source": [
    "x = \"100\"\n",
    "def convert(x):\n",
    "    return float(x)"
   ]
  },
  {
   "cell_type": "code",
   "execution_count": 14,
   "metadata": {},
   "outputs": [
    {
     "name": "stdout",
     "output_type": "stream",
     "text": [
      "Write your Age: 19\n",
      "You are eligible to apply vaccine\n"
     ]
    }
   ],
   "source": [
    "try :\n",
    "    age = input(\"Write your Age: \")\n",
    "    int_age = int(age)\n",
    "    if int_age < 18:\n",
    "        print(\"You are too Young to apply for vaccine.\")\n",
    "    else:\n",
    "        print(\"You are eligible to apply vaccine\")\n",
    "\n",
    "except ValueError:\n",
    "    print(\"Not your gay Age! boi.\")"
   ]
  },
  {
   "cell_type": "code",
   "execution_count": 2,
   "metadata": {},
   "outputs": [
    {
     "data": {
      "text/plain": [
       "'100'"
      ]
     },
     "execution_count": 2,
     "metadata": {},
     "output_type": "execute_result"
    }
   ],
   "source": [
    "x"
   ]
  },
  {
   "cell_type": "code",
   "execution_count": 11,
   "metadata": {},
   "outputs": [
    {
     "name": "stdout",
     "output_type": "stream",
     "text": [
      "Guess the Item:Laptop\n",
      "We got it\n"
     ]
    }
   ],
   "source": [
    "Data = [\"Earpods\", \"Laptop\", \"Bags\", \"Cables\", \"Books\", \"cup\"]\n",
    "Guess = input(\"Guess the Item:\")\n",
    "\n",
    "if Guess in Data:\n",
    "        print(\"We got it\")\n",
    "else: \n",
    "    print(\"oOOps! No we dont have that. Lmao\")"
   ]
  },
  {
   "cell_type": "code",
   "execution_count": 15,
   "metadata": {},
   "outputs": [
    {
     "data": {
      "text/plain": [
       "['Hanzala', 'Corey', 'Freddy Murcury', 'Michael jackson', 'John Lennon']"
      ]
     },
     "execution_count": 15,
     "metadata": {},
     "output_type": "execute_result"
    }
   ],
   "source": [
    "artists = [\"Hanzala\", \"Corey\", \"Freddy Murcury\", \"Michael jackson\", \"Elwis persley\"]\n",
    "\n",
    "artists[4] = \"John Lennon\"\n",
    "\n",
    "artists"
   ]
  },
  {
   "cell_type": "code",
   "execution_count": 17,
   "metadata": {},
   "outputs": [
    {
     "data": {
      "text/plain": [
       "['Hanzala',\n",
       " 'Corey',\n",
       " 'Freddy Murcury',\n",
       " 'Michael jackson',\n",
       " 'Elwis persley',\n",
       " 'Dexter']"
      ]
     },
     "execution_count": 17,
     "metadata": {},
     "output_type": "execute_result"
    }
   ],
   "source": [
    "artists = [\"Hanzala\", \"Corey\", \"Freddy Murcury\", \"Michael jackson\", \"Elwis persley\"]\n",
    "\n",
    "artists.append(\"Dexter\")\n",
    "artists"
   ]
  },
  {
   "cell_type": "code",
   "execution_count": 18,
   "metadata": {},
   "outputs": [
    {
     "data": {
      "text/plain": [
       "True"
      ]
     },
     "execution_count": 18,
     "metadata": {},
     "output_type": "execute_result"
    }
   ],
   "source": [
    "\"Hanzala\" in artists"
   ]
  },
  {
   "cell_type": "code",
   "execution_count": 19,
   "metadata": {},
   "outputs": [
    {
     "data": {
      "text/plain": [
       "True"
      ]
     },
     "execution_count": 19,
     "metadata": {},
     "output_type": "execute_result"
    }
   ],
   "source": [
    "\"Me\" not in artists"
   ]
  },
  {
   "cell_type": "code",
   "execution_count": 24,
   "metadata": {},
   "outputs": [],
   "source": [
    "#Lists go with [] whereas Tuples go with ().\n",
    "#You can store coordinates in tuples. \n",
    "#As it will never change and will simply call by command in future. \n",
    "#tuple can be use as keys and dictionaries. Immutable."
   ]
  },
  {
   "cell_type": "code",
   "execution_count": 23,
   "metadata": {},
   "outputs": [
    {
     "name": "stdout",
     "output_type": "stream",
     "text": [
      "('Shahrukh khan', 'Hanzala', 'Saundharya', 'Alexanar', 'Einstein')\n"
     ]
    }
   ],
   "source": [
    "authors = (\"Shahrukh khan\", \"Hanzala\", \"Saundharya\", \"Alexanar\", \"Einstein\")\n",
    "\n",
    "print(authors)"
   ]
  },
  {
   "cell_type": "code",
   "execution_count": 25,
   "metadata": {},
   "outputs": [
    {
     "data": {
      "text/plain": [
       "True"
      ]
     },
     "execution_count": 25,
     "metadata": {},
     "output_type": "execute_result"
    }
   ],
   "source": [
    "#Dictionaries are use to store the values to the keys.\n",
    "\n",
    "bill = dict({\"Bill Gates\":\"Brotha\"})\n",
    "\"Bill Gates\" in bill"
   ]
  },
  {
   "cell_type": "code",
   "execution_count": 27,
   "metadata": {},
   "outputs": [
    {
     "data": {
      "text/plain": [
       "True"
      ]
     },
     "execution_count": 27,
     "metadata": {},
     "output_type": "execute_result"
    }
   ],
   "source": [
    "bill = {\"Bill Gates\": \"Handsome\", \"Elon Musk\": \"Tall\"}\n",
    "\"Elon Musk\" in bill"
   ]
  },
  {
   "cell_type": "code",
   "execution_count": 30,
   "metadata": {},
   "outputs": [
    {
     "data": {
      "text/plain": [
       "'fun'"
      ]
     },
     "execution_count": 30,
     "metadata": {},
     "output_type": "execute_result"
    }
   ],
   "source": [
    "bill = dict()\n",
    "bill[\"Bill\"] = \"fun\"\n",
    "bill[\"Elon\"] = \"boring\"\n",
    "bill[\"Josh\"] = \"Intelligent\"\n",
    "\n",
    "bill[\"Bill\"]"
   ]
  },
  {
   "cell_type": "code",
   "execution_count": 31,
   "metadata": {},
   "outputs": [],
   "source": [
    "#can use keyword \"del\" to delete the key-value in dictionaries"
   ]
  },
  {
   "cell_type": "code",
   "execution_count": 32,
   "metadata": {},
   "outputs": [
    {
     "data": {
      "text/plain": [
       "{'Bill': 'fun', 'Elon': 'boring'}"
      ]
     },
     "execution_count": 32,
     "metadata": {},
     "output_type": "execute_result"
    }
   ],
   "source": [
    "del bill[\"Josh\"]\n",
    "\n",
    "bill"
   ]
  },
  {
   "cell_type": "code",
   "execution_count": null,
   "metadata": {},
   "outputs": [],
   "source": [
    "# use of Dictionaries with loops\n",
    "\n",
    "Hanzala = dict()\n",
    "Hanzala[\"1\"] = \"Excellent\"\n",
    "Hanzala[\"2\"] = \"Very Good\"\n",
    "Hanzala[\"3\"] = \"Amazingly Average\"\n",
    "\n",
    "V = input(\"Type a god damn Number!!!:\")\n",
    "\n",
    "if V in Hanzala:\n",
    "    Scientist = Hanzala[V]\n",
    "    print(Scientist)\n",
    "\n",
    "#elif: def convert(Hanzala)\n",
    "            #return int(Hanzala)\n",
    "#Question: How to change float to integer here?\n",
    "\n",
    "else:\n",
    "    print(\"NOT HERE! M*@*@F@*@*\")"
   ]
  },
  {
   "cell_type": "code",
   "execution_count": 43,
   "metadata": {},
   "outputs": [],
   "source": [
    "me = dict({\"height\":184, \"favourite color\":\"Red\", \"favourite author\":\"Khaled Hossenie\"})"
   ]
  },
  {
   "cell_type": "code",
   "execution_count": 44,
   "metadata": {},
   "outputs": [],
   "source": [
    "# Containers; They are basically the collection of lists, tuples."
   ]
  },
  {
   "cell_type": "code",
   "execution_count": 51,
   "metadata": {},
   "outputs": [
    {
     "name": "stdout",
     "output_type": "stream",
     "text": [
      "[(34.0522, 188.2437), (41.8781, 87.6298)]\n",
      "34.0522\n"
     ]
    }
   ],
   "source": [
    "#example\n",
    "\n",
    "locations = [] #List\n",
    "\n",
    "la = (34.0522, 188.2437) #Tuples\n",
    "Chicago = (41.8781, 87.6298)\n",
    "\n",
    "#to add both of the tuples in the list; we use append\n",
    "\n",
    "locations.append(la)\n",
    "locations.append(Chicago) \n",
    "\n",
    "print(locations)\n",
    "\n",
    "print(locations[0][0]) #calling the values by their index number"
   ]
  },
  {
   "cell_type": "code",
   "execution_count": 56,
   "metadata": {},
   "outputs": [],
   "source": [
    "# using lists, Tuples and Dictionaries together\n",
    "\n",
    "NewYork = dict({\"Location\":(40.7128, 74.0059), \n",
    "                \"celebs\":[\"W.Allen\", \"Jay Z\"],\n",
    "               \"facts\":{\"state\":\"NY\",\"Country\":\"America\"}})"
   ]
  },
  {
   "cell_type": "code",
   "execution_count": 57,
   "metadata": {},
   "outputs": [],
   "source": [
    "my_list = (45.6, 76.4)"
   ]
  },
  {
   "cell_type": "code",
   "execution_count": null,
   "metadata": {},
   "outputs": [],
   "source": []
  }
 ],
 "metadata": {
  "kernelspec": {
   "display_name": "Python 3.8.3 32-bit",
   "language": "python",
   "name": "python38332bit638ebeb5ef97429daf66987f1f0bab8d"
  },
  "language_info": {
   "codemirror_mode": {
    "name": "ipython",
    "version": 3
   },
   "file_extension": ".py",
   "mimetype": "text/x-python",
   "name": "python",
   "nbconvert_exporter": "python",
   "pygments_lexer": "ipython3",
   "version": "3.8.3"
  }
 },
 "nbformat": 4,
 "nbformat_minor": 4
}
