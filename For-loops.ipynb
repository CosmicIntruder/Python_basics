{
 "cells": [
  {
   "cell_type": "code",
   "execution_count": 2,
   "id": "8f9bbe14",
   "metadata": {},
   "outputs": [
    {
     "name": "stdout",
     "output_type": "stream",
     "text": [
      "h\n",
      "a\n",
      "n\n",
      "z\n",
      "a\n",
      "l\n",
      "a\n"
     ]
    }
   ],
   "source": [
    "Name =\"hanzala\"\n",
    "for character in Name:\n",
    "    print(character)"
   ]
  },
  {
   "cell_type": "code",
   "execution_count": 5,
   "id": "bf29477c",
   "metadata": {},
   "outputs": [
    {
     "name": "stdout",
     "output_type": "stream",
     "text": [
      "Hanzala\n",
      "Hanzala\n",
      "Hanzala\n",
      "Hanzala\n",
      "Hanzala\n",
      "Hanzala\n",
      "Hanzala\n",
      "Hanzala\n",
      "Hanzala\n",
      "Hanzala\n"
     ]
    }
   ],
   "source": [
    "for i in range(10):\n",
    "    print(\"Hanzala\")"
   ]
  },
  {
   "cell_type": "code",
   "execution_count": 9,
   "id": "5d85913f",
   "metadata": {},
   "outputs": [
    {
     "name": "stdout",
     "output_type": "stream",
     "text": [
      "Joker\n",
      "Batman\n",
      "Robb\n"
     ]
    }
   ],
   "source": [
    "#Using for loops in tuples, lists and dictionaries\n",
    "\n",
    "new = (\"Joker\",\"Batman\",\"Robb\") #tuple\n",
    "for show in new:\n",
    "    print(show)"
   ]
  },
  {
   "cell_type": "code",
   "execution_count": 10,
   "id": "fc83ca69",
   "metadata": {},
   "outputs": [
    {
     "name": "stdout",
     "output_type": "stream",
     "text": [
      "God\n",
      "Hanzala\n",
      "Destiny\n"
     ]
    }
   ],
   "source": [
    "#If you use for=loop to print dictionaries then  it will only print the keys\n",
    "\n",
    "people={\"God\":\"Pointing the direction\",\"Hanzala\":\"Following the path\",\"Destiny\":\"Still the same\"}\n",
    "for character in people:\n",
    "    print(character)\n"
   ]
  },
  {
   "cell_type": "code",
   "execution_count": 12,
   "id": "87ff4320",
   "metadata": {},
   "outputs": [
    {
     "name": "stdout",
     "output_type": "stream",
     "text": [
      "God\n",
      "Hanzala\n",
      "Destiny\n"
     ]
    }
   ],
   "source": [
    "people={\"God\":\"Pointing the direction\",\"Hanzala\":\"Following the path\",\"Destiny\":\"Still the same\"}\n",
    "for show in people:\n",
    "    print(show)"
   ]
  },
  {
   "cell_type": "code",
   "execution_count": 16,
   "id": "bf0e0b31",
   "metadata": {},
   "outputs": [
    {
     "name": "stdout",
     "output_type": "stream",
     "text": [
      "['HANZALA', 'WILL NEVER STOP', 'CODING']\n"
     ]
    }
   ],
   "source": [
    "#here in the following code we have use i; which is a index variable.\n",
    "\n",
    "tv=[\"Hanzala\",\"will never stop\",\"coding\"]\n",
    "i = 0 #index_variable\n",
    "for show in tv:\n",
    "    x = tv[i] #use i to look up in the new item in the loop\n",
    "    x = x.upper()\n",
    "    tv[i] = x\n",
    "    i+=1\n",
    "    \n",
    "print(tv)"
   ]
  },
  {
   "cell_type": "code",
   "execution_count": 30,
   "id": "6aedd73a",
   "metadata": {},
   "outputs": [
    {
     "name": "stdout",
     "output_type": "stream",
     "text": [
      "Never\n",
      "doubt\n",
      "his judgement\n",
      "HANZALA\n",
      "WILL\n",
      "NEVER STOP\n",
      "HIS DETERMINATION\n",
      "IS SOLID\n"
     ]
    }
   ],
   "source": [
    "# add lists with the help of for-loops\n",
    "\n",
    "List_1 = [\"Hanzala\", \"will\", \"never stop\"]\n",
    "List_2 = [\"His determination\", \"is solid\"]\n",
    "List_3 = [\"Never\", \"doubt\", \"his judgement\"]\n",
    "\n",
    "for show in List_1:\n",
    "    show = show.upper()\n",
    "    List_3.append(show)\n",
    "\n",
    "for show in List_2:\n",
    "    show = show.upper()\n",
    "    List_3.append(show)\n",
    "    \n",
    "for i in List_3:\n",
    "    print(i)"
   ]
  },
  {
   "cell_type": "code",
   "execution_count": 25,
   "id": "ca4b8982",
   "metadata": {},
   "outputs": [
    {
     "name": "stdout",
     "output_type": "stream",
     "text": [
      "56\n",
      "57\n",
      "58\n",
      "59\n",
      "60\n",
      "61\n",
      "62\n",
      "63\n",
      "64\n",
      "65\n",
      "66\n",
      "67\n",
      "68\n",
      "69\n",
      "70\n",
      "71\n",
      "72\n",
      "73\n",
      "74\n",
      "75\n"
     ]
    }
   ],
   "source": [
    "#Use of range function\n",
    "\n",
    "for i in range(56,76):\n",
    "    print(i)"
   ]
  },
  {
   "cell_type": "code",
   "execution_count": 28,
   "id": "38efaa62",
   "metadata": {},
   "outputs": [
    {
     "name": "stdout",
     "output_type": "stream",
     "text": [
      "The Walking Dead\n",
      "Entourage\n",
      "The Sopranos\n",
      "The Vampire Diaries\n"
     ]
    }
   ],
   "source": [
    "#Exercise_1\n",
    "\n",
    "#Print each item in the following list\n",
    "\n",
    "x = [\"The Walking Dead\", \"Entourage\", \"The Sopranos\", \"The Vampire Diaries\"]\n",
    "\n",
    "for i in x:\n",
    "    print(i)"
   ]
  },
  {
   "cell_type": "code",
   "execution_count": 37,
   "id": "735eaa65",
   "metadata": {},
   "outputs": [
    {
     "name": "stdout",
     "output_type": "stream",
     "text": [
      "0\n",
      "The Walking Dead\n",
      "1\n",
      "Entourage\n",
      "2\n",
      "The Sopranos\n",
      "3\n",
      "The Vampire Diaries\n"
     ]
    }
   ],
   "source": [
    "#Exercise_2\n",
    "\n",
    "x = [\"The Walking Dead\", \"Entourage\", \"The Sopranos\", \"The Vampire Diaries\"]\n",
    "for (num,item) in enumerate(x):\n",
    "    print(num+0,item, sep='\\n')"
   ]
  },
  {
   "cell_type": "code",
   "execution_count": null,
   "id": "ab1798a8",
   "metadata": {},
   "outputs": [],
   "source": []
  }
 ],
 "metadata": {
  "kernelspec": {
   "display_name": "Python 3",
   "language": "python",
   "name": "python3"
  },
  "language_info": {
   "codemirror_mode": {
    "name": "ipython",
    "version": 3
   },
   "file_extension": ".py",
   "mimetype": "text/x-python",
   "name": "python",
   "nbconvert_exporter": "python",
   "pygments_lexer": "ipython3",
   "version": "3.9.5"
  }
 },
 "nbformat": 4,
 "nbformat_minor": 5
}
